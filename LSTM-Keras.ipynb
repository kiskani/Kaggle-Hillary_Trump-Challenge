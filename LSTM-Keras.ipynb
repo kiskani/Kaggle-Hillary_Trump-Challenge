{
 "cells": [
  {
   "cell_type": "code",
   "execution_count": 1,
   "metadata": {},
   "outputs": [
    {
     "name": "stderr",
     "output_type": "stream",
     "text": [
      "/anaconda3/lib/python3.6/site-packages/h5py/__init__.py:36: FutureWarning: Conversion of the second argument of issubdtype from `float` to `np.floating` is deprecated. In future, it will be treated as `np.float64 == np.dtype(float).type`.\n",
      "  from ._conv import register_converters as _register_converters\n",
      "Using TensorFlow backend.\n"
     ]
    }
   ],
   "source": [
    "import numpy as np\n",
    "import pandas as pd \n",
    "import re\n",
    "\n",
    "from sklearn.feature_extraction.text import CountVectorizer\n",
    "from keras.preprocessing.text import Tokenizer\n",
    "from keras.preprocessing.sequence import pad_sequences\n",
    "from keras.models import Sequential\n",
    "from keras.layers import Dense, Embedding, LSTM, SpatialDropout1D\n",
    "from sklearn.model_selection import train_test_split\n",
    "from keras.utils.np_utils import to_categorical"
   ]
  },
  {
   "cell_type": "code",
   "execution_count": 2,
   "metadata": {},
   "outputs": [],
   "source": [
    "data = pd.read_csv('/Users/mohsenkiskani/.kaggle/competitions/cmps242-spring18-hw5/train.csv')\n",
    "test_data = pd.read_csv('/Users/mohsenkiskani/.kaggle/competitions/cmps242-spring18-hw5/test.csv')"
   ]
  },
  {
   "cell_type": "code",
   "execution_count": 3,
   "metadata": {},
   "outputs": [],
   "source": [
    "data['tweet'] = data['tweet'].apply(lambda x: x.lower())\n",
    "data['tweet'] = data['tweet'].apply((lambda x: re.sub(r\"http\\S+\", '', x)))\n",
    "data['tweet'] = data['tweet'].apply((lambda x: re.sub('[^a-zA-z0-9\\s]','',x)))\n",
    "test_data['tweet'] = test_data['tweet'].apply(lambda x: x.lower())\n",
    "test_data['tweet'] = test_data['tweet'].apply((lambda x: re.sub(r\"http\\S+\", '', x)))\n",
    "test_data['tweet'] = test_data['tweet'].apply((lambda x: re.sub('[^a-zA-z0-9\\s]','',x)))"
   ]
  },
  {
   "cell_type": "code",
   "execution_count": 7,
   "metadata": {},
   "outputs": [
    {
     "name": "stdout",
     "output_type": "stream",
     "text": [
      "(3350, 21) (3350, 2)\n",
      "(1650, 21) (1650, 2)\n",
      "(1444, 21) (5000, 21)\n"
     ]
    }
   ],
   "source": [
    "max_features = 100\n",
    "tokenizer = Tokenizer(num_words=max_features, split=' ')\n",
    "tokenizer.fit_on_texts(data['tweet'].values)\n",
    "X = tokenizer.texts_to_sequences(data['tweet'].values)\n",
    "X = pad_sequences(X)\n",
    "Y = pd.get_dummies(data['handle']).values\n",
    "X_test = tokenizer.texts_to_sequences(test_data['tweet'].values)\n",
    "X_train, X_val, Y_train, Y_val = train_test_split(X,Y, test_size = 0.33, random_state = 42)\n",
    "X_test = pad_sequences(X_test, X_train.shape[1])\n",
    "print(X_train.shape,Y_train.shape)\n",
    "print(X_val.shape,Y_val.shape)\n",
    "print(X_test.shape, X.shape)"
   ]
  },
  {
   "cell_type": "code",
   "execution_count": 8,
   "metadata": {},
   "outputs": [
    {
     "name": "stdout",
     "output_type": "stream",
     "text": [
      "_________________________________________________________________\n",
      "Layer (type)                 Output Shape              Param #   \n",
      "=================================================================\n",
      "embedding_2 (Embedding)      (None, 21, 128)           12800     \n",
      "_________________________________________________________________\n",
      "spatial_dropout1d_2 (Spatial (None, 21, 128)           0         \n",
      "_________________________________________________________________\n",
      "lstm_2 (LSTM)                (None, 196)               254800    \n",
      "_________________________________________________________________\n",
      "dense_2 (Dense)              (None, 2)                 394       \n",
      "=================================================================\n",
      "Total params: 267,994\n",
      "Trainable params: 267,994\n",
      "Non-trainable params: 0\n",
      "_________________________________________________________________\n",
      "None\n"
     ]
    }
   ],
   "source": [
    "embed_dim = 128\n",
    "lstm_out = 196\n",
    "\n",
    "model = Sequential()\n",
    "model.add(Embedding(max_features, embed_dim, input_length = X.shape[1]))\n",
    "model.add(SpatialDropout1D(0.4))\n",
    "model.add(LSTM(lstm_out, dropout=0.2, recurrent_dropout=0.2))\n",
    "#model.add(Dense(64,activation='softmax'))# input_shape=(16,)))\n",
    "#model.add(Dense(32,activation='softmax'))# input_shape=(16,)))\n",
    "model.add(Dense(2,activation='softmax'))\n",
    "model.compile(loss = 'categorical_crossentropy', optimizer='adam',metrics = ['accuracy'])\n",
    "print(model.summary())"
   ]
  },
  {
   "cell_type": "code",
   "execution_count": 9,
   "metadata": {},
   "outputs": [
    {
     "name": "stdout",
     "output_type": "stream",
     "text": [
      "Epoch 1/7\n",
      "3350/3350 [==============================] - 4s 1ms/step - loss: 0.5460 - acc: 0.7212\n",
      "Epoch 2/7\n",
      "3350/3350 [==============================] - 3s 924us/step - loss: 0.4020 - acc: 0.8218\n",
      "Epoch 3/7\n",
      "3350/3350 [==============================] - 3s 924us/step - loss: 0.3816 - acc: 0.8236\n",
      "Epoch 4/7\n",
      "3350/3350 [==============================] - 3s 933us/step - loss: 0.3664 - acc: 0.8328\n",
      "Epoch 5/7\n",
      "3350/3350 [==============================] - 3s 932us/step - loss: 0.3607 - acc: 0.8367\n",
      "Epoch 6/7\n",
      "3350/3350 [==============================] - 3s 931us/step - loss: 0.3473 - acc: 0.8487\n",
      "Epoch 7/7\n",
      "3350/3350 [==============================] - 3s 935us/step - loss: 0.3430 - acc: 0.8484\n",
      "score: 0.40\n",
      "acc: 0.82\n"
     ]
    }
   ],
   "source": [
    "batch_size = 32\n",
    "model.fit(X_train, Y_train, epochs = 7, batch_size=batch_size, verbose = 1)\n",
    "score,acc = model.evaluate(X_val, Y_val, verbose = 2, batch_size = batch_size)\n",
    "print(\"score: %.2f\" % (score))\n",
    "print(\"acc: %.2f\" % (acc))"
   ]
  },
  {
   "cell_type": "code",
   "execution_count": null,
   "metadata": {},
   "outputs": [],
   "source": [
    "model.fit(X, Y, epochs = 7, batch_size=batch_size, verbose = 2)"
   ]
  },
  {
   "cell_type": "code",
   "execution_count": null,
   "metadata": {},
   "outputs": [],
   "source": [
    "import time\n",
    "timestr = time.strftime(\"%Y%m%d-%H%M%S\")\n",
    "filename = \"/Users/mohsenkiskani/.kaggle/competitions/cmps242-spring18-hw5/submission_\"+str(timestr)+\".csv\"\n",
    "with open(filename,\"w+\") as outputfile:\n",
    "    outputfile.write(\"id,realDonaldTrump,HillaryClinton\\n\")\n",
    "    for i in range(len(X_test)):\n",
    "        hillary, donald = model.predict(X_test[i].reshape(1,X_test.shape[1]),batch_size=1,verbose = 2)[0]\n",
    "        outputfile.write(str(i)+\",\"+str(donald)+\",\"+str(hillary)+\"\\n\")"
   ]
  }
 ],
 "metadata": {
  "kernelspec": {
   "display_name": "Python 3",
   "language": "python",
   "name": "python3"
  },
  "language_info": {
   "codemirror_mode": {
    "name": "ipython",
    "version": 3
   },
   "file_extension": ".py",
   "mimetype": "text/x-python",
   "name": "python",
   "nbconvert_exporter": "python",
   "pygments_lexer": "ipython3",
   "version": "3.6.4"
  }
 },
 "nbformat": 4,
 "nbformat_minor": 2
}
