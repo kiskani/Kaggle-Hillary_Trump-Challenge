{
 "cells": [
  {
   "cell_type": "code",
   "execution_count": 1,
   "metadata": {},
   "outputs": [],
   "source": [
    "import re\n",
    "import pandas as pd\n",
    "from sklearn.feature_extraction.text import CountVectorizer\n",
    "from sklearn.feature_extraction.text import TfidfTransformer\n",
    "from sklearn.naive_bayes import MultinomialNB\n",
    "from sklearn.linear_model import LogisticRegression\n",
    "from sklearn.model_selection import train_test_split\n",
    "from sklearn.metrics import log_loss"
   ]
  },
  {
   "cell_type": "code",
   "execution_count": 2,
   "metadata": {},
   "outputs": [],
   "source": [
    "data = pd.read_csv('/Users/mohsenkiskani/.kaggle/competitions/cmps242-spring18-hw5/train.csv')\n",
    "test_data = pd.read_csv('/Users/mohsenkiskani/.kaggle/competitions/cmps242-spring18-hw5/test.csv')"
   ]
  },
  {
   "cell_type": "code",
   "execution_count": 3,
   "metadata": {},
   "outputs": [],
   "source": [
    "data['handle'] = data['handle'].replace({'realDonaldTrump':1, 'HillaryClinton':0})\n",
    "data['tweet'] = data['tweet'].apply(lambda x: x.lower())\n",
    "data['tweet'] = data['tweet'].apply((lambda x: re.sub(r\"http\\S+\", '', x)))\n",
    "data['tweet'] = data['tweet'].apply((lambda x: re.sub('[^a-zA-z0-9\\s]','',x)))\n",
    "test_data['tweet'] = test_data['tweet'].apply(lambda x: x.lower())\n",
    "test_data['tweet'] = test_data['tweet'].apply((lambda x: re.sub(r\"http\\S+\", '', x)))\n",
    "test_data['tweet'] = test_data['tweet'].apply((lambda x: re.sub('[^a-zA-z0-9\\s]','',x)))"
   ]
  },
  {
   "cell_type": "code",
   "execution_count": 4,
   "metadata": {},
   "outputs": [
    {
     "name": "stdout",
     "output_type": "stream",
     "text": [
      "(4000,) (4000,)\n",
      "(1000,) (1000,)\n"
     ]
    }
   ],
   "source": [
    "X_train, X_val, y_train, y_val = train_test_split(data['tweet'], data['handle'],  test_size=0.2)\n",
    "print(X_train.shape, y_train.shape)\n",
    "print(X_val.shape, y_val.shape)"
   ]
  },
  {
   "cell_type": "code",
   "execution_count": 5,
   "metadata": {},
   "outputs": [],
   "source": [
    "count_vect = CountVectorizer()\n",
    "tfidf_transformer = TfidfTransformer()\n",
    "\n",
    "X_train_counts = count_vect.fit_transform(X_train)\n",
    "X_train_tfidf = tfidf_transformer.fit_transform(X_train_counts)\n",
    "X_val_counts = count_vect.transform(X_val)\n",
    "X_val_tfidf = tfidf_transformer.transform(X_val_counts)"
   ]
  },
  {
   "cell_type": "code",
   "execution_count": 7,
   "metadata": {},
   "outputs": [
    {
     "data": {
      "text/plain": [
       "{0.2: 3.937483677216804,\n",
       " 0.5: 3.6266258940908758,\n",
       " 1.0: 3.5920823201113836,\n",
       " 2: 3.246685760590544,\n",
       " 3: 3.0739878806288408,\n",
       " 4: 3.0739878806288408,\n",
       " 5: 3.0394491042339298,\n",
       " 6: 2.970370751846678,\n",
       " 7: 2.970369952249248,\n",
       " 8: 2.970369952249248,\n",
       " 9: 2.935830376256907,\n",
       " 10.0: 2.935830376256907,\n",
       " 20: 2.866751224272225,\n",
       " 30: 2.9703675534569576,\n",
       " 40: 2.9012884014722755,\n",
       " 50: 2.8667480258825044,\n",
       " 60: 2.8667480258825044,\n",
       " 70: 2.797670473092683,\n",
       " 80: 2.797669673495253,\n",
       " 90: 2.797670473092683,\n",
       " 100.0: 2.901288401472276,\n",
       " 150: 2.8322108486824544,\n",
       " 200: 2.7976720722875434,\n",
       " 300: 2.8667496250773645,\n",
       " 400: 2.9358279774646165,\n",
       " 500: 2.9703675534569576,\n",
       " 1000.0: 2.9703675534569576,\n",
       " 10000.0: 3.1776010114238518,\n",
       " 100000.0: 3.2121405874161923,\n",
       " 1000000.0: 3.1085226590366,\n",
       " 10000000.0: 3.1430622350289403,\n",
       " 100000000.0: 3.1430622350289403,\n",
       " 1000000000.0: 3.1430622350289403,\n",
       " 10000000000.0: 3.1430622350289403}"
      ]
     },
     "execution_count": 7,
     "metadata": {},
     "output_type": "execute_result"
    }
   ],
   "source": [
    "hyperVec = [1e10,1e9,1e8,1e7,1e6,1e5,1e4,1e3,500,400,300,200,150,1e2,90,80,70,60,50,40,30,20,1e1,9,8,7,6,5,4,3,2,1e0,0.5,0.2]\n",
    "loss_dic = {}\n",
    "for C in hyperVec:\n",
    "    lf = LogisticRegression(C=C)\n",
    "    lf.fit(X_train_tfidf, y_train)\n",
    "    y_val_predicted = lf.predict(X_val_tfidf)\n",
    "    loss_dic[C] = log_loss(y_val_predicted, y_val)\n",
    "loss_dic"
   ]
  },
  {
   "cell_type": "code",
   "execution_count": 8,
   "metadata": {},
   "outputs": [],
   "source": [
    "X_counts = count_vect.fit_transform(data['tweet'])\n",
    "X_tfidf = tfidf_transformer.fit_transform(X_counts)"
   ]
  },
  {
   "cell_type": "code",
   "execution_count": 9,
   "metadata": {},
   "outputs": [
    {
     "data": {
      "text/plain": [
       "LogisticRegression(C=200, class_weight=None, dual=False, fit_intercept=True,\n",
       "          intercept_scaling=1, max_iter=100, multi_class='ovr', n_jobs=1,\n",
       "          penalty='l2', random_state=None, solver='liblinear', tol=0.0001,\n",
       "          verbose=0, warm_start=False)"
      ]
     },
     "execution_count": 9,
     "metadata": {},
     "output_type": "execute_result"
    }
   ],
   "source": [
    "C = 200 \n",
    "lf = LogisticRegression(C=C)\n",
    "lf.fit(X_tfidf, data['handle'])"
   ]
  },
  {
   "cell_type": "code",
   "execution_count": 10,
   "metadata": {},
   "outputs": [],
   "source": [
    "X_Test_counts = count_vect.transform(test_data['tweet'])\n",
    "X_Test_tfidf = tfidf_transformer.transform(X_Test_counts)"
   ]
  },
  {
   "cell_type": "code",
   "execution_count": 11,
   "metadata": {},
   "outputs": [],
   "source": [
    "predicted = lf.predict(X_Test_tfidf)\n",
    "predict_probabs = lf.predict_proba(X_Test_tfidf) "
   ]
  },
  {
   "cell_type": "code",
   "execution_count": 12,
   "metadata": {},
   "outputs": [
    {
     "data": {
      "text/plain": [
       "(1444,)"
      ]
     },
     "execution_count": 12,
     "metadata": {},
     "output_type": "execute_result"
    }
   ],
   "source": [
    "predicted.shape"
   ]
  },
  {
   "cell_type": "code",
   "execution_count": null,
   "metadata": {},
   "outputs": [],
   "source": []
  },
  {
   "cell_type": "code",
   "execution_count": null,
   "metadata": {},
   "outputs": [],
   "source": []
  },
  {
   "cell_type": "code",
   "execution_count": null,
   "metadata": {},
   "outputs": [],
   "source": []
  },
  {
   "cell_type": "code",
   "execution_count": 13,
   "metadata": {},
   "outputs": [],
   "source": [
    "filename = \"/Users/mohsenkiskani/.kaggle/competitions/cmps242-spring18-hw5/submission_bow_logistic_3.csv\"\n",
    "with open(filename,\"w+\") as outputfile:\n",
    "    outputfile.write(\"id,realDonaldTrump,HillaryClinton\\n\")\n",
    "    for i in range(predict_probabs.shape[0]):\n",
    "        hillary, donald = predict_probabs[i][0], predict_probabs[i][1]\n",
    "        outputfile.write(str(i)+\",\"+str(donald)+\",\"+str(hillary)+\"\\n\")"
   ]
  },
  {
   "cell_type": "code",
   "execution_count": null,
   "metadata": {},
   "outputs": [],
   "source": []
  }
 ],
 "metadata": {
  "kernelspec": {
   "display_name": "Python 3",
   "language": "python",
   "name": "python3"
  },
  "language_info": {
   "codemirror_mode": {
    "name": "ipython",
    "version": 3
   },
   "file_extension": ".py",
   "mimetype": "text/x-python",
   "name": "python",
   "nbconvert_exporter": "python",
   "pygments_lexer": "ipython3",
   "version": "3.6.4"
  }
 },
 "nbformat": 4,
 "nbformat_minor": 2
}
